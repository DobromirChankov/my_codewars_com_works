{
 "cells": [
  {
   "cell_type": "markdown",
   "id": "53bdc5ab",
   "metadata": {
    "papermill": {
     "duration": 0.011321,
     "end_time": "2022-10-05T17:52:24.066559",
     "exception": false,
     "start_time": "2022-10-05T17:52:24.055238",
     "status": "completed"
    },
    "tags": []
   },
   "source": [
    "**This notebook is an exercise in the [Intermediate Machine Learning](https://www.kaggle.com/learn/intermediate-machine-learning) course.  You can reference the tutorial at [this link](https://www.kaggle.com/alexisbcook/missing-values).**\n",
    "\n",
    "---\n",
    "# Exercise: Missing Values\n",
    "Python · Housing Prices Competition for Kaggle Learn Users"
   ]
  },
  {
   "cell_type": "markdown",
   "id": "ea8f3d91",
   "metadata": {
    "papermill": {
     "duration": 0.011623,
     "end_time": "2022-10-05T17:52:24.088828",
     "exception": false,
     "start_time": "2022-10-05T17:52:24.077205",
     "status": "completed"
    },
    "tags": []
   },
   "source": [
    "Now it's your turn to test your new knowledge of **missing values** handling. You'll probably find it makes a big difference.\n",
    "\n",
    "# Setup\n",
    "\n",
    "The questions will give you feedback on your work. Run the following cell to set up the feedback system."
   ]
  },
  {
   "cell_type": "code",
   "execution_count": 1,
   "id": "ee139dec",
   "metadata": {
    "execution": {
     "iopub.execute_input": "2022-10-05T17:52:24.111423Z",
     "iopub.status.busy": "2022-10-05T17:52:24.110798Z",
     "iopub.status.idle": "2022-10-05T17:52:24.172233Z",
     "shell.execute_reply": "2022-10-05T17:52:24.171009Z"
    },
    "papermill": {
     "duration": 0.076201,
     "end_time": "2022-10-05T17:52:24.175169",
     "exception": false,
     "start_time": "2022-10-05T17:52:24.098968",
     "status": "completed"
    },
    "tags": []
   },
   "outputs": [
    {
     "name": "stdout",
     "output_type": "stream",
     "text": [
      "Setup Complete\n"
     ]
    }
   ],
   "source": [
    "# Set up code checking\n",
    "import os\n",
    "if not os.path.exists(\"../input/train.csv\"):\n",
    "    os.symlink(\"../input/home-data-for-ml-course/train.csv\", \"../input/train.csv\")  \n",
    "    os.symlink(\"../input/home-data-for-ml-course/test.csv\", \"../input/test.csv\") \n",
    "from learntools.core import binder\n",
    "binder.bind(globals())\n",
    "from learntools.ml_intermediate.ex2 import *\n",
    "print(\"Setup Complete\")"
   ]
  },
  {
   "cell_type": "markdown",
   "id": "c98afa47",
   "metadata": {
    "papermill": {
     "duration": 0.009618,
     "end_time": "2022-10-05T17:52:24.196448",
     "exception": false,
     "start_time": "2022-10-05T17:52:24.186830",
     "status": "completed"
    },
    "tags": []
   },
   "source": [
    "In this exercise, you will work with data from the [Housing Prices Competition for Kaggle Learn Users](https://www.kaggle.com/c/home-data-for-ml-course). \n",
    "\n",
    "![Ames Housing dataset image](https://i.imgur.com/lTJVG4e.png)\n",
    "\n",
    "Run the next code cell without changes to load the training and validation sets in `X_train`, `X_valid`, `y_train`, and `y_valid`.  The test set is loaded in `X_test`."
   ]
  },
  {
   "cell_type": "code",
   "execution_count": null,
   "id": "66cf9491",
   "metadata": {
    "papermill": {
     "duration": 0.009533,
     "end_time": "2022-10-05T17:52:24.215936",
     "exception": false,
     "start_time": "2022-10-05T17:52:24.206403",
     "status": "completed"
    },
    "tags": []
   },
   "outputs": [],
   "source": []
  },
  {
   "cell_type": "code",
   "execution_count": 2,
   "id": "f62ac225",
   "metadata": {
    "execution": {
     "iopub.execute_input": "2022-10-05T17:52:24.237795Z",
     "iopub.status.busy": "2022-10-05T17:52:24.237402Z",
     "iopub.status.idle": "2022-10-05T17:52:25.534685Z",
     "shell.execute_reply": "2022-10-05T17:52:25.533703Z"
    },
    "papermill": {
     "duration": 1.31138,
     "end_time": "2022-10-05T17:52:25.537328",
     "exception": false,
     "start_time": "2022-10-05T17:52:24.225948",
     "status": "completed"
    },
    "tags": []
   },
   "outputs": [],
   "source": [
    "import pandas as pd\n",
    "from sklearn.model_selection import train_test_split\n",
    "\n",
    "# Read the data\n",
    "X_full = pd.read_csv('../input/train.csv', index_col='Id')\n",
    "X_test_full = pd.read_csv('../input/test.csv', index_col='Id')\n",
    "\n",
    "# Remove rows with missing target, separate target from predictors\n",
    "X_full.dropna(axis=0, subset=['SalePrice'], inplace=True)\n",
    "y = X_full.SalePrice\n",
    "X_full.drop(['SalePrice'], axis=1, inplace=True)\n",
    "\n",
    "# To keep things simple, we'll use only numerical predictors\n",
    "'''X_full.dtypes\n",
    "MSSubClass         int64\n",
    "MSZoning          object\n",
    "LotFrontage      float64\n",
    "LotArea            int64\n",
    "Street            object\n",
    "                  ...   \n",
    "MiscVal            int64\n",
    "MoSold             int64\n",
    "YrSold             int64\n",
    "SaleType          object\n",
    "SaleCondition     object\n",
    "Length: 79, dtype: object\n",
    "'''\n",
    "\n",
    "X = X_full.select_dtypes(exclude=['object'])\n",
    "X_test = X_test_full.select_dtypes(exclude=['object'])\n",
    "\n",
    "# Break off validation set from training data\n",
    "X_train, X_valid, y_train, y_valid = train_test_split(X, y, train_size=0.8, test_size=0.2,\n",
    "                                                      random_state=0)"
   ]
  },
  {
   "cell_type": "markdown",
   "id": "f9f94cf4",
   "metadata": {
    "papermill": {
     "duration": 0.009877,
     "end_time": "2022-10-05T17:52:25.557739",
     "exception": false,
     "start_time": "2022-10-05T17:52:25.547862",
     "status": "completed"
    },
    "tags": []
   },
   "source": [
    "Use the next code cell to print the first five rows of the data."
   ]
  },
  {
   "cell_type": "code",
   "execution_count": 3,
   "id": "5ccca061",
   "metadata": {
    "execution": {
     "iopub.execute_input": "2022-10-05T17:52:25.580255Z",
     "iopub.status.busy": "2022-10-05T17:52:25.579187Z",
     "iopub.status.idle": "2022-10-05T17:52:25.613237Z",
     "shell.execute_reply": "2022-10-05T17:52:25.612105Z"
    },
    "papermill": {
     "duration": 0.048183,
     "end_time": "2022-10-05T17:52:25.615995",
     "exception": false,
     "start_time": "2022-10-05T17:52:25.567812",
     "status": "completed"
    },
    "tags": []
   },
   "outputs": [
    {
     "data": {
      "text/html": [
       "<div>\n",
       "<style scoped>\n",
       "    .dataframe tbody tr th:only-of-type {\n",
       "        vertical-align: middle;\n",
       "    }\n",
       "\n",
       "    .dataframe tbody tr th {\n",
       "        vertical-align: top;\n",
       "    }\n",
       "\n",
       "    .dataframe thead th {\n",
       "        text-align: right;\n",
       "    }\n",
       "</style>\n",
       "<table border=\"1\" class=\"dataframe\">\n",
       "  <thead>\n",
       "    <tr style=\"text-align: right;\">\n",
       "      <th></th>\n",
       "      <th>MSSubClass</th>\n",
       "      <th>LotFrontage</th>\n",
       "      <th>LotArea</th>\n",
       "      <th>OverallQual</th>\n",
       "      <th>OverallCond</th>\n",
       "      <th>YearBuilt</th>\n",
       "      <th>YearRemodAdd</th>\n",
       "      <th>MasVnrArea</th>\n",
       "      <th>BsmtFinSF1</th>\n",
       "      <th>BsmtFinSF2</th>\n",
       "      <th>...</th>\n",
       "      <th>GarageArea</th>\n",
       "      <th>WoodDeckSF</th>\n",
       "      <th>OpenPorchSF</th>\n",
       "      <th>EnclosedPorch</th>\n",
       "      <th>3SsnPorch</th>\n",
       "      <th>ScreenPorch</th>\n",
       "      <th>PoolArea</th>\n",
       "      <th>MiscVal</th>\n",
       "      <th>MoSold</th>\n",
       "      <th>YrSold</th>\n",
       "    </tr>\n",
       "    <tr>\n",
       "      <th>Id</th>\n",
       "      <th></th>\n",
       "      <th></th>\n",
       "      <th></th>\n",
       "      <th></th>\n",
       "      <th></th>\n",
       "      <th></th>\n",
       "      <th></th>\n",
       "      <th></th>\n",
       "      <th></th>\n",
       "      <th></th>\n",
       "      <th></th>\n",
       "      <th></th>\n",
       "      <th></th>\n",
       "      <th></th>\n",
       "      <th></th>\n",
       "      <th></th>\n",
       "      <th></th>\n",
       "      <th></th>\n",
       "      <th></th>\n",
       "      <th></th>\n",
       "      <th></th>\n",
       "    </tr>\n",
       "  </thead>\n",
       "  <tbody>\n",
       "    <tr>\n",
       "      <th>619</th>\n",
       "      <td>20</td>\n",
       "      <td>90.0</td>\n",
       "      <td>11694</td>\n",
       "      <td>9</td>\n",
       "      <td>5</td>\n",
       "      <td>2007</td>\n",
       "      <td>2007</td>\n",
       "      <td>452.0</td>\n",
       "      <td>48</td>\n",
       "      <td>0</td>\n",
       "      <td>...</td>\n",
       "      <td>774</td>\n",
       "      <td>0</td>\n",
       "      <td>108</td>\n",
       "      <td>0</td>\n",
       "      <td>0</td>\n",
       "      <td>260</td>\n",
       "      <td>0</td>\n",
       "      <td>0</td>\n",
       "      <td>7</td>\n",
       "      <td>2007</td>\n",
       "    </tr>\n",
       "    <tr>\n",
       "      <th>871</th>\n",
       "      <td>20</td>\n",
       "      <td>60.0</td>\n",
       "      <td>6600</td>\n",
       "      <td>5</td>\n",
       "      <td>5</td>\n",
       "      <td>1962</td>\n",
       "      <td>1962</td>\n",
       "      <td>0.0</td>\n",
       "      <td>0</td>\n",
       "      <td>0</td>\n",
       "      <td>...</td>\n",
       "      <td>308</td>\n",
       "      <td>0</td>\n",
       "      <td>0</td>\n",
       "      <td>0</td>\n",
       "      <td>0</td>\n",
       "      <td>0</td>\n",
       "      <td>0</td>\n",
       "      <td>0</td>\n",
       "      <td>8</td>\n",
       "      <td>2009</td>\n",
       "    </tr>\n",
       "    <tr>\n",
       "      <th>93</th>\n",
       "      <td>30</td>\n",
       "      <td>80.0</td>\n",
       "      <td>13360</td>\n",
       "      <td>5</td>\n",
       "      <td>7</td>\n",
       "      <td>1921</td>\n",
       "      <td>2006</td>\n",
       "      <td>0.0</td>\n",
       "      <td>713</td>\n",
       "      <td>0</td>\n",
       "      <td>...</td>\n",
       "      <td>432</td>\n",
       "      <td>0</td>\n",
       "      <td>0</td>\n",
       "      <td>44</td>\n",
       "      <td>0</td>\n",
       "      <td>0</td>\n",
       "      <td>0</td>\n",
       "      <td>0</td>\n",
       "      <td>8</td>\n",
       "      <td>2009</td>\n",
       "    </tr>\n",
       "    <tr>\n",
       "      <th>818</th>\n",
       "      <td>20</td>\n",
       "      <td>NaN</td>\n",
       "      <td>13265</td>\n",
       "      <td>8</td>\n",
       "      <td>5</td>\n",
       "      <td>2002</td>\n",
       "      <td>2002</td>\n",
       "      <td>148.0</td>\n",
       "      <td>1218</td>\n",
       "      <td>0</td>\n",
       "      <td>...</td>\n",
       "      <td>857</td>\n",
       "      <td>150</td>\n",
       "      <td>59</td>\n",
       "      <td>0</td>\n",
       "      <td>0</td>\n",
       "      <td>0</td>\n",
       "      <td>0</td>\n",
       "      <td>0</td>\n",
       "      <td>7</td>\n",
       "      <td>2008</td>\n",
       "    </tr>\n",
       "    <tr>\n",
       "      <th>303</th>\n",
       "      <td>20</td>\n",
       "      <td>118.0</td>\n",
       "      <td>13704</td>\n",
       "      <td>7</td>\n",
       "      <td>5</td>\n",
       "      <td>2001</td>\n",
       "      <td>2002</td>\n",
       "      <td>150.0</td>\n",
       "      <td>0</td>\n",
       "      <td>0</td>\n",
       "      <td>...</td>\n",
       "      <td>843</td>\n",
       "      <td>468</td>\n",
       "      <td>81</td>\n",
       "      <td>0</td>\n",
       "      <td>0</td>\n",
       "      <td>0</td>\n",
       "      <td>0</td>\n",
       "      <td>0</td>\n",
       "      <td>1</td>\n",
       "      <td>2006</td>\n",
       "    </tr>\n",
       "    <tr>\n",
       "      <th>...</th>\n",
       "      <td>...</td>\n",
       "      <td>...</td>\n",
       "      <td>...</td>\n",
       "      <td>...</td>\n",
       "      <td>...</td>\n",
       "      <td>...</td>\n",
       "      <td>...</td>\n",
       "      <td>...</td>\n",
       "      <td>...</td>\n",
       "      <td>...</td>\n",
       "      <td>...</td>\n",
       "      <td>...</td>\n",
       "      <td>...</td>\n",
       "      <td>...</td>\n",
       "      <td>...</td>\n",
       "      <td>...</td>\n",
       "      <td>...</td>\n",
       "      <td>...</td>\n",
       "      <td>...</td>\n",
       "      <td>...</td>\n",
       "      <td>...</td>\n",
       "    </tr>\n",
       "    <tr>\n",
       "      <th>764</th>\n",
       "      <td>60</td>\n",
       "      <td>82.0</td>\n",
       "      <td>9430</td>\n",
       "      <td>8</td>\n",
       "      <td>5</td>\n",
       "      <td>1999</td>\n",
       "      <td>1999</td>\n",
       "      <td>673.0</td>\n",
       "      <td>1163</td>\n",
       "      <td>0</td>\n",
       "      <td>...</td>\n",
       "      <td>856</td>\n",
       "      <td>0</td>\n",
       "      <td>128</td>\n",
       "      <td>0</td>\n",
       "      <td>0</td>\n",
       "      <td>180</td>\n",
       "      <td>0</td>\n",
       "      <td>0</td>\n",
       "      <td>7</td>\n",
       "      <td>2009</td>\n",
       "    </tr>\n",
       "    <tr>\n",
       "      <th>836</th>\n",
       "      <td>20</td>\n",
       "      <td>60.0</td>\n",
       "      <td>9600</td>\n",
       "      <td>4</td>\n",
       "      <td>7</td>\n",
       "      <td>1950</td>\n",
       "      <td>1995</td>\n",
       "      <td>0.0</td>\n",
       "      <td>442</td>\n",
       "      <td>0</td>\n",
       "      <td>...</td>\n",
       "      <td>436</td>\n",
       "      <td>290</td>\n",
       "      <td>0</td>\n",
       "      <td>0</td>\n",
       "      <td>0</td>\n",
       "      <td>0</td>\n",
       "      <td>0</td>\n",
       "      <td>0</td>\n",
       "      <td>2</td>\n",
       "      <td>2010</td>\n",
       "    </tr>\n",
       "    <tr>\n",
       "      <th>1217</th>\n",
       "      <td>90</td>\n",
       "      <td>68.0</td>\n",
       "      <td>8930</td>\n",
       "      <td>6</td>\n",
       "      <td>5</td>\n",
       "      <td>1978</td>\n",
       "      <td>1978</td>\n",
       "      <td>0.0</td>\n",
       "      <td>0</td>\n",
       "      <td>0</td>\n",
       "      <td>...</td>\n",
       "      <td>539</td>\n",
       "      <td>0</td>\n",
       "      <td>0</td>\n",
       "      <td>0</td>\n",
       "      <td>0</td>\n",
       "      <td>0</td>\n",
       "      <td>0</td>\n",
       "      <td>0</td>\n",
       "      <td>4</td>\n",
       "      <td>2010</td>\n",
       "    </tr>\n",
       "    <tr>\n",
       "      <th>560</th>\n",
       "      <td>120</td>\n",
       "      <td>NaN</td>\n",
       "      <td>3196</td>\n",
       "      <td>7</td>\n",
       "      <td>5</td>\n",
       "      <td>2003</td>\n",
       "      <td>2004</td>\n",
       "      <td>18.0</td>\n",
       "      <td>0</td>\n",
       "      <td>0</td>\n",
       "      <td>...</td>\n",
       "      <td>420</td>\n",
       "      <td>143</td>\n",
       "      <td>20</td>\n",
       "      <td>0</td>\n",
       "      <td>0</td>\n",
       "      <td>0</td>\n",
       "      <td>0</td>\n",
       "      <td>0</td>\n",
       "      <td>10</td>\n",
       "      <td>2006</td>\n",
       "    </tr>\n",
       "    <tr>\n",
       "      <th>685</th>\n",
       "      <td>60</td>\n",
       "      <td>58.0</td>\n",
       "      <td>16770</td>\n",
       "      <td>7</td>\n",
       "      <td>5</td>\n",
       "      <td>1998</td>\n",
       "      <td>1998</td>\n",
       "      <td>30.0</td>\n",
       "      <td>0</td>\n",
       "      <td>0</td>\n",
       "      <td>...</td>\n",
       "      <td>486</td>\n",
       "      <td>0</td>\n",
       "      <td>81</td>\n",
       "      <td>0</td>\n",
       "      <td>0</td>\n",
       "      <td>0</td>\n",
       "      <td>0</td>\n",
       "      <td>0</td>\n",
       "      <td>6</td>\n",
       "      <td>2010</td>\n",
       "    </tr>\n",
       "  </tbody>\n",
       "</table>\n",
       "<p>1168 rows × 36 columns</p>\n",
       "</div>"
      ],
      "text/plain": [
       "      MSSubClass  LotFrontage  LotArea  OverallQual  OverallCond  YearBuilt  \\\n",
       "Id                                                                            \n",
       "619           20         90.0    11694            9            5       2007   \n",
       "871           20         60.0     6600            5            5       1962   \n",
       "93            30         80.0    13360            5            7       1921   \n",
       "818           20          NaN    13265            8            5       2002   \n",
       "303           20        118.0    13704            7            5       2001   \n",
       "...          ...          ...      ...          ...          ...        ...   \n",
       "764           60         82.0     9430            8            5       1999   \n",
       "836           20         60.0     9600            4            7       1950   \n",
       "1217          90         68.0     8930            6            5       1978   \n",
       "560          120          NaN     3196            7            5       2003   \n",
       "685           60         58.0    16770            7            5       1998   \n",
       "\n",
       "      YearRemodAdd  MasVnrArea  BsmtFinSF1  BsmtFinSF2  ...  GarageArea  \\\n",
       "Id                                                      ...               \n",
       "619           2007       452.0          48           0  ...         774   \n",
       "871           1962         0.0           0           0  ...         308   \n",
       "93            2006         0.0         713           0  ...         432   \n",
       "818           2002       148.0        1218           0  ...         857   \n",
       "303           2002       150.0           0           0  ...         843   \n",
       "...            ...         ...         ...         ...  ...         ...   \n",
       "764           1999       673.0        1163           0  ...         856   \n",
       "836           1995         0.0         442           0  ...         436   \n",
       "1217          1978         0.0           0           0  ...         539   \n",
       "560           2004        18.0           0           0  ...         420   \n",
       "685           1998        30.0           0           0  ...         486   \n",
       "\n",
       "      WoodDeckSF  OpenPorchSF  EnclosedPorch  3SsnPorch  ScreenPorch  \\\n",
       "Id                                                                     \n",
       "619            0          108              0          0          260   \n",
       "871            0            0              0          0            0   \n",
       "93             0            0             44          0            0   \n",
       "818          150           59              0          0            0   \n",
       "303          468           81              0          0            0   \n",
       "...          ...          ...            ...        ...          ...   \n",
       "764            0          128              0          0          180   \n",
       "836          290            0              0          0            0   \n",
       "1217           0            0              0          0            0   \n",
       "560          143           20              0          0            0   \n",
       "685            0           81              0          0            0   \n",
       "\n",
       "      PoolArea  MiscVal  MoSold  YrSold  \n",
       "Id                                       \n",
       "619          0        0       7    2007  \n",
       "871          0        0       8    2009  \n",
       "93           0        0       8    2009  \n",
       "818          0        0       7    2008  \n",
       "303          0        0       1    2006  \n",
       "...        ...      ...     ...     ...  \n",
       "764          0        0       7    2009  \n",
       "836          0        0       2    2010  \n",
       "1217         0        0       4    2010  \n",
       "560          0        0      10    2006  \n",
       "685          0        0       6    2010  \n",
       "\n",
       "[1168 rows x 36 columns]"
      ]
     },
     "execution_count": 3,
     "metadata": {},
     "output_type": "execute_result"
    }
   ],
   "source": [
    "X_train.head(1479)"
   ]
  },
  {
   "cell_type": "markdown",
   "id": "e0392dbb",
   "metadata": {
    "papermill": {
     "duration": 0.010383,
     "end_time": "2022-10-05T17:52:25.637251",
     "exception": false,
     "start_time": "2022-10-05T17:52:25.626868",
     "status": "completed"
    },
    "tags": []
   },
   "source": [
    "You can already see a few missing values in the first several rows.  In the next step, you'll obtain a more comprehensive understanding of the missing values in the dataset.\n",
    "\n",
    "# Step 1: Preliminary investigation\n",
    "\n",
    "Run the code cell below without changes."
   ]
  },
  {
   "cell_type": "code",
   "execution_count": 4,
   "id": "4a4a23ac",
   "metadata": {
    "execution": {
     "iopub.execute_input": "2022-10-05T17:52:25.660336Z",
     "iopub.status.busy": "2022-10-05T17:52:25.659948Z",
     "iopub.status.idle": "2022-10-05T17:52:25.669027Z",
     "shell.execute_reply": "2022-10-05T17:52:25.667764Z"
    },
    "papermill": {
     "duration": 0.024588,
     "end_time": "2022-10-05T17:52:25.672493",
     "exception": false,
     "start_time": "2022-10-05T17:52:25.647905",
     "status": "completed"
    },
    "tags": []
   },
   "outputs": [
    {
     "name": "stdout",
     "output_type": "stream",
     "text": [
      "(1168, 36)\n",
      "LotFrontage    212\n",
      "MasVnrArea       6\n",
      "GarageYrBlt     58\n",
      "dtype: int64\n"
     ]
    }
   ],
   "source": [
    "# Shape of training data (num_rows, num_columns)\n",
    "print(X_train.shape)\n",
    "\n",
    "# Number of missing values in each column of training data\n",
    "missing_val_count_by_column = (X_train.isnull().sum())\n",
    "print(missing_val_count_by_column[missing_val_count_by_column > 0])"
   ]
  },
  {
   "cell_type": "markdown",
   "id": "aa0e6e78",
   "metadata": {
    "papermill": {
     "duration": 0.010301,
     "end_time": "2022-10-05T17:52:25.694574",
     "exception": false,
     "start_time": "2022-10-05T17:52:25.684273",
     "status": "completed"
    },
    "tags": []
   },
   "source": [
    "### Part A\n",
    "\n",
    "Use the above output to answer the questions below."
   ]
  },
  {
   "cell_type": "code",
   "execution_count": 5,
   "id": "97945839",
   "metadata": {
    "execution": {
     "iopub.execute_input": "2022-10-05T17:52:25.718912Z",
     "iopub.status.busy": "2022-10-05T17:52:25.717728Z",
     "iopub.status.idle": "2022-10-05T17:52:25.729878Z",
     "shell.execute_reply": "2022-10-05T17:52:25.728611Z"
    },
    "papermill": {
     "duration": 0.027204,
     "end_time": "2022-10-05T17:52:25.732712",
     "exception": false,
     "start_time": "2022-10-05T17:52:25.705508",
     "status": "completed"
    },
    "tags": []
   },
   "outputs": [
    {
     "data": {
      "application/javascript": "parent.postMessage({\"jupyterEvent\": \"custom.exercise_interaction\", \"data\": {\"outcomeType\": 1, \"valueTowardsCompletion\": 1.0, \"interactionType\": 1, \"questionType\": 1, \"questionId\": \"1.1_InvestigateEquality\", \"learnToolsVersion\": \"0.3.4\", \"failureMessage\": \"\", \"exceptionClass\": \"\", \"trace\": \"\"}}, \"*\")",
      "text/plain": [
       "<IPython.core.display.Javascript object>"
      ]
     },
     "metadata": {},
     "output_type": "display_data"
    },
    {
     "data": {
      "text/markdown": [
       "<span style=\"color:#33cc33\">Correct</span>"
      ],
      "text/plain": [
       "Correct"
      ]
     },
     "metadata": {},
     "output_type": "display_data"
    }
   ],
   "source": [
    "# Fill in the line below: How many rows are in the training data?\n",
    "num_rows = X_train.shape[0]\n",
    "# num_rows = 1168\n",
    "\n",
    "# Fill in the line below: How many columns in the training data\n",
    "# have missing values?\n",
    "\n",
    "num_cols_with_missing = missing_val_count_by_column[missing_val_count_by_column > 0].size\n",
    "# num_cols_with_missing = 3\n",
    "\n",
    "# Fill in the line below: How many missing entries are contained in \n",
    "# all of the training data?\n",
    "\n",
    "tot_missing = missing_val_count_by_column[missing_val_count_by_column > 0].sum()\n",
    "# tot_missing = 276\n",
    "\n",
    "# Check your answers\n",
    "step_1.a.check()"
   ]
  },
  {
   "cell_type": "code",
   "execution_count": 6,
   "id": "a70af92e",
   "metadata": {
    "execution": {
     "iopub.execute_input": "2022-10-05T17:52:25.756992Z",
     "iopub.status.busy": "2022-10-05T17:52:25.756557Z",
     "iopub.status.idle": "2022-10-05T17:52:25.760806Z",
     "shell.execute_reply": "2022-10-05T17:52:25.759564Z"
    },
    "papermill": {
     "duration": 0.018957,
     "end_time": "2022-10-05T17:52:25.762971",
     "exception": false,
     "start_time": "2022-10-05T17:52:25.744014",
     "status": "completed"
    },
    "tags": []
   },
   "outputs": [],
   "source": [
    "# Lines below will give you a hint or solution code\n",
    "#step_1.a.hint()\n",
    "#step_1.a.solution()"
   ]
  },
  {
   "cell_type": "markdown",
   "id": "de9be156",
   "metadata": {
    "papermill": {
     "duration": 0.010383,
     "end_time": "2022-10-05T17:52:25.784114",
     "exception": false,
     "start_time": "2022-10-05T17:52:25.773731",
     "status": "completed"
    },
    "tags": []
   },
   "source": [
    "### Part B\n",
    "Considering your answers above, what do you think is likely the best approach to dealing with the missing values?"
   ]
  },
  {
   "cell_type": "markdown",
   "id": "c94d2610",
   "metadata": {
    "papermill": {
     "duration": 0.010498,
     "end_time": "2022-10-05T17:52:25.805155",
     "exception": false,
     "start_time": "2022-10-05T17:52:25.794657",
     "status": "completed"
    },
    "tags": []
   },
   "source": [
    "I think that is better using Imputation instead of removing whole the column."
   ]
  },
  {
   "cell_type": "code",
   "execution_count": 7,
   "id": "1eb39c72",
   "metadata": {
    "execution": {
     "iopub.execute_input": "2022-10-05T17:52:25.829305Z",
     "iopub.status.busy": "2022-10-05T17:52:25.828927Z",
     "iopub.status.idle": "2022-10-05T17:52:25.838315Z",
     "shell.execute_reply": "2022-10-05T17:52:25.837139Z"
    },
    "papermill": {
     "duration": 0.02416,
     "end_time": "2022-10-05T17:52:25.840596",
     "exception": false,
     "start_time": "2022-10-05T17:52:25.816436",
     "status": "completed"
    },
    "tags": []
   },
   "outputs": [
    {
     "data": {
      "application/javascript": "parent.postMessage({\"jupyterEvent\": \"custom.exercise_interaction\", \"data\": {\"outcomeType\": 1, \"valueTowardsCompletion\": 1.0, \"interactionType\": 1, \"questionType\": 4, \"questionId\": \"1.2_InvestigateThought\", \"learnToolsVersion\": \"0.3.4\", \"failureMessage\": \"\", \"exceptionClass\": \"\", \"trace\": \"\"}}, \"*\")",
      "text/plain": [
       "<IPython.core.display.Javascript object>"
      ]
     },
     "metadata": {},
     "output_type": "display_data"
    },
    {
     "data": {
      "text/markdown": [
       "<span style=\"color:#33cc33\">Correct:</span> \n",
       "\n",
       "Since there are relatively few missing entries in the data (the column with the greatest percentage of missing values is missing less than 20% of its entries), we can expect that dropping columns is unlikely to yield good results.  This is because we'd be throwing away a lot of valuable data, and so imputation will likely perform better."
      ],
      "text/plain": [
       "Correct: \n",
       "\n",
       "Since there are relatively few missing entries in the data (the column with the greatest percentage of missing values is missing less than 20% of its entries), we can expect that dropping columns is unlikely to yield good results.  This is because we'd be throwing away a lot of valuable data, and so imputation will likely perform better."
      ]
     },
     "metadata": {},
     "output_type": "display_data"
    }
   ],
   "source": [
    "# Check your answer (Run this code cell to receive credit!)\n",
    "step_1.b.check()"
   ]
  },
  {
   "cell_type": "code",
   "execution_count": 8,
   "id": "4ed28233",
   "metadata": {
    "execution": {
     "iopub.execute_input": "2022-10-05T17:52:25.865734Z",
     "iopub.status.busy": "2022-10-05T17:52:25.865299Z",
     "iopub.status.idle": "2022-10-05T17:52:25.869601Z",
     "shell.execute_reply": "2022-10-05T17:52:25.868451Z"
    },
    "papermill": {
     "duration": 0.01958,
     "end_time": "2022-10-05T17:52:25.872019",
     "exception": false,
     "start_time": "2022-10-05T17:52:25.852439",
     "status": "completed"
    },
    "tags": []
   },
   "outputs": [],
   "source": [
    "#step_1.b.hint()"
   ]
  },
  {
   "cell_type": "markdown",
   "id": "3339a6c5",
   "metadata": {
    "papermill": {
     "duration": 0.010686,
     "end_time": "2022-10-05T17:52:25.894043",
     "exception": false,
     "start_time": "2022-10-05T17:52:25.883357",
     "status": "completed"
    },
    "tags": []
   },
   "source": [
    "To compare different approaches to dealing with missing values, you'll use the same `score_dataset()` function from the tutorial.  This function reports the [mean absolute error](https://en.wikipedia.org/wiki/Mean_absolute_error) (MAE) from a random forest model."
   ]
  },
  {
   "cell_type": "code",
   "execution_count": 9,
   "id": "5c73acbb",
   "metadata": {
    "execution": {
     "iopub.execute_input": "2022-10-05T17:52:25.918613Z",
     "iopub.status.busy": "2022-10-05T17:52:25.918206Z",
     "iopub.status.idle": "2022-10-05T17:52:26.161853Z",
     "shell.execute_reply": "2022-10-05T17:52:26.160463Z"
    },
    "papermill": {
     "duration": 0.259658,
     "end_time": "2022-10-05T17:52:26.164712",
     "exception": false,
     "start_time": "2022-10-05T17:52:25.905054",
     "status": "completed"
    },
    "tags": []
   },
   "outputs": [],
   "source": [
    "from sklearn.ensemble import RandomForestRegressor\n",
    "from sklearn.metrics import mean_absolute_error\n",
    "\n",
    "# Function for comparing different approaches\n",
    "def score_dataset(X_train, X_valid, y_train, y_valid):\n",
    "    model = RandomForestRegressor(n_estimators=100, random_state=0)\n",
    "    model.fit(X_train, y_train)\n",
    "    preds = model.predict(X_valid)\n",
    "    return mean_absolute_error(y_valid, preds)"
   ]
  },
  {
   "cell_type": "markdown",
   "id": "aba44c02",
   "metadata": {
    "papermill": {
     "duration": 0.010894,
     "end_time": "2022-10-05T17:52:26.187000",
     "exception": false,
     "start_time": "2022-10-05T17:52:26.176106",
     "status": "completed"
    },
    "tags": []
   },
   "source": [
    "# Step 2: Drop columns with missing values\n",
    "\n",
    "In this step, you'll preprocess the data in `X_train` and `X_valid` to remove columns with missing values.  Set the preprocessed DataFrames to `reduced_X_train` and `reduced_X_valid`, respectively.  "
   ]
  },
  {
   "cell_type": "code",
   "execution_count": 10,
   "id": "379a08af",
   "metadata": {
    "execution": {
     "iopub.execute_input": "2022-10-05T17:52:26.211060Z",
     "iopub.status.busy": "2022-10-05T17:52:26.210107Z",
     "iopub.status.idle": "2022-10-05T17:52:26.241062Z",
     "shell.execute_reply": "2022-10-05T17:52:26.239826Z"
    },
    "papermill": {
     "duration": 0.045294,
     "end_time": "2022-10-05T17:52:26.243296",
     "exception": false,
     "start_time": "2022-10-05T17:52:26.198002",
     "status": "completed"
    },
    "tags": []
   },
   "outputs": [
    {
     "data": {
      "application/javascript": "parent.postMessage({\"jupyterEvent\": \"custom.exercise_interaction\", \"data\": {\"outcomeType\": 1, \"valueTowardsCompletion\": 1.0, \"interactionType\": 1, \"questionType\": 2, \"questionId\": \"2_DropMissing\", \"learnToolsVersion\": \"0.3.4\", \"failureMessage\": \"\", \"exceptionClass\": \"\", \"trace\": \"\"}}, \"*\")",
      "text/plain": [
       "<IPython.core.display.Javascript object>"
      ]
     },
     "metadata": {},
     "output_type": "display_data"
    },
    {
     "data": {
      "text/markdown": [
       "<span style=\"color:#33cc33\">Correct</span>"
      ],
      "text/plain": [
       "Correct"
      ]
     },
     "metadata": {},
     "output_type": "display_data"
    }
   ],
   "source": [
    "# Fill in the line below: get names of columns with missing values\n",
    "missing_val_colums = ['LotFrontage', 'MasVnrArea', 'GarageYrBlt'] # Your code here\n",
    "\n",
    "# Fill in the lines below: drop columns in training and validation data\n",
    "reduced_X_train = X_train.drop(missing_val_colums, axis='columns')\n",
    "reduced_X_valid = X_valid.drop(missing_val_colums, axis=1)\n",
    "\n",
    "# Check your answers\n",
    "step_2.check()"
   ]
  },
  {
   "cell_type": "code",
   "execution_count": 11,
   "id": "ae7812e0",
   "metadata": {
    "execution": {
     "iopub.execute_input": "2022-10-05T17:52:26.267598Z",
     "iopub.status.busy": "2022-10-05T17:52:26.267169Z",
     "iopub.status.idle": "2022-10-05T17:52:26.272685Z",
     "shell.execute_reply": "2022-10-05T17:52:26.271511Z"
    },
    "papermill": {
     "duration": 0.02053,
     "end_time": "2022-10-05T17:52:26.275080",
     "exception": false,
     "start_time": "2022-10-05T17:52:26.254550",
     "status": "completed"
    },
    "tags": []
   },
   "outputs": [],
   "source": [
    "# Lines below will give you a hint or solution code\n",
    "#step_2.hint()\n",
    "#step_2.solution()"
   ]
  },
  {
   "cell_type": "markdown",
   "id": "76071590",
   "metadata": {
    "papermill": {
     "duration": 0.011108,
     "end_time": "2022-10-05T17:52:26.297930",
     "exception": false,
     "start_time": "2022-10-05T17:52:26.286822",
     "status": "completed"
    },
    "tags": []
   },
   "source": [
    "Run the next code cell without changes to obtain the MAE for this approach."
   ]
  },
  {
   "cell_type": "code",
   "execution_count": 12,
   "id": "9c74320f",
   "metadata": {
    "execution": {
     "iopub.execute_input": "2022-10-05T17:52:26.323327Z",
     "iopub.status.busy": "2022-10-05T17:52:26.322265Z",
     "iopub.status.idle": "2022-10-05T17:52:27.434186Z",
     "shell.execute_reply": "2022-10-05T17:52:27.432648Z"
    },
    "papermill": {
     "duration": 1.127377,
     "end_time": "2022-10-05T17:52:27.436792",
     "exception": false,
     "start_time": "2022-10-05T17:52:26.309415",
     "status": "completed"
    },
    "tags": []
   },
   "outputs": [
    {
     "name": "stdout",
     "output_type": "stream",
     "text": [
      "MAE (Drop columns with missing values):\n",
      "17837.82570776256\n"
     ]
    }
   ],
   "source": [
    "print(\"MAE (Drop columns with missing values):\")\n",
    "print(score_dataset(reduced_X_train, reduced_X_valid, y_train, y_valid))"
   ]
  },
  {
   "cell_type": "markdown",
   "id": "94e4a221",
   "metadata": {
    "papermill": {
     "duration": 0.010946,
     "end_time": "2022-10-05T17:52:27.459135",
     "exception": false,
     "start_time": "2022-10-05T17:52:27.448189",
     "status": "completed"
    },
    "tags": []
   },
   "source": [
    "# Step 3: Imputation\n",
    "\n",
    "### Part A\n",
    "\n",
    "Use the next code cell to impute missing values with the mean value along each column.  Set the preprocessed DataFrames to `imputed_X_train` and `imputed_X_valid`.  Make sure that the column names match those in `X_train` and `X_valid`."
   ]
  },
  {
   "cell_type": "code",
   "execution_count": 13,
   "id": "181b76b0",
   "metadata": {
    "execution": {
     "iopub.execute_input": "2022-10-05T17:52:27.483927Z",
     "iopub.status.busy": "2022-10-05T17:52:27.483545Z",
     "iopub.status.idle": "2022-10-05T17:52:27.519151Z",
     "shell.execute_reply": "2022-10-05T17:52:27.518217Z"
    },
    "papermill": {
     "duration": 0.050822,
     "end_time": "2022-10-05T17:52:27.521274",
     "exception": false,
     "start_time": "2022-10-05T17:52:27.470452",
     "status": "completed"
    },
    "tags": []
   },
   "outputs": [
    {
     "data": {
      "application/javascript": "parent.postMessage({\"jupyterEvent\": \"custom.exercise_interaction\", \"data\": {\"outcomeType\": 1, \"valueTowardsCompletion\": 1.0, \"interactionType\": 1, \"questionType\": 2, \"questionId\": \"3.1_ImputeCode\", \"learnToolsVersion\": \"0.3.4\", \"failureMessage\": \"\", \"exceptionClass\": \"\", \"trace\": \"\"}}, \"*\")",
      "text/plain": [
       "<IPython.core.display.Javascript object>"
      ]
     },
     "metadata": {},
     "output_type": "display_data"
    },
    {
     "data": {
      "text/markdown": [
       "<span style=\"color:#33cc33\">Correct</span>"
      ],
      "text/plain": [
       "Correct"
      ]
     },
     "metadata": {},
     "output_type": "display_data"
    }
   ],
   "source": [
    "from sklearn.impute import SimpleImputer\n",
    "\n",
    "# Fill in the lines below: imputation\n",
    "dobromirs_imputer = SimpleImputer() # Your code here\n",
    "imputed_X_train = pd.DataFrame(dobromirs_imputer.fit_transform(X_train))\n",
    "imputed_X_valid = pd.DataFrame(dobromirs_imputer.transform(X_valid))\n",
    "\n",
    "# Fill in the lines below: imputation removed column names; put them back\n",
    "imputed_X_train.columns = X_train.columns\n",
    "imputed_X_valid.columns = X_valid.columns\n",
    "\n",
    "# Check your answers\n",
    "step_3.a.check()"
   ]
  },
  {
   "cell_type": "code",
   "execution_count": 14,
   "id": "56ebeefa",
   "metadata": {
    "execution": {
     "iopub.execute_input": "2022-10-05T17:52:27.547875Z",
     "iopub.status.busy": "2022-10-05T17:52:27.546788Z",
     "iopub.status.idle": "2022-10-05T17:52:27.551677Z",
     "shell.execute_reply": "2022-10-05T17:52:27.550588Z"
    },
    "papermill": {
     "duration": 0.020231,
     "end_time": "2022-10-05T17:52:27.553916",
     "exception": false,
     "start_time": "2022-10-05T17:52:27.533685",
     "status": "completed"
    },
    "tags": []
   },
   "outputs": [],
   "source": [
    "# Lines below will give you a hint or solution code\n",
    "#step_3.a.hint()\n",
    "#step_3.a.solution()"
   ]
  },
  {
   "cell_type": "markdown",
   "id": "fb3414c0",
   "metadata": {
    "papermill": {
     "duration": 0.011312,
     "end_time": "2022-10-05T17:52:27.576911",
     "exception": false,
     "start_time": "2022-10-05T17:52:27.565599",
     "status": "completed"
    },
    "tags": []
   },
   "source": [
    "Run the next code cell without changes to obtain the MAE for this approach."
   ]
  },
  {
   "cell_type": "code",
   "execution_count": 15,
   "id": "88dbc296",
   "metadata": {
    "execution": {
     "iopub.execute_input": "2022-10-05T17:52:27.602132Z",
     "iopub.status.busy": "2022-10-05T17:52:27.601703Z",
     "iopub.status.idle": "2022-10-05T17:52:28.831430Z",
     "shell.execute_reply": "2022-10-05T17:52:28.829798Z"
    },
    "papermill": {
     "duration": 1.246836,
     "end_time": "2022-10-05T17:52:28.835494",
     "exception": false,
     "start_time": "2022-10-05T17:52:27.588658",
     "status": "completed"
    },
    "tags": []
   },
   "outputs": [
    {
     "name": "stdout",
     "output_type": "stream",
     "text": [
      "MAE (Imputation):\n",
      "18062.894611872147\n"
     ]
    }
   ],
   "source": [
    "print(\"MAE (Imputation):\")\n",
    "print(score_dataset(imputed_X_train, imputed_X_valid, y_train, y_valid))\n",
    "#MAE (Imputation):\n",
    "# 18062.894611872147"
   ]
  },
  {
   "cell_type": "markdown",
   "id": "a3203e6d",
   "metadata": {
    "papermill": {
     "duration": 0.012253,
     "end_time": "2022-10-05T17:52:28.861420",
     "exception": false,
     "start_time": "2022-10-05T17:52:28.849167",
     "status": "completed"
    },
    "tags": []
   },
   "source": [
    "### Part B\n",
    "\n",
    "Compare the MAE from each approach.  Does anything surprise you about the results?  Why do you think one approach performed better than the other?"
   ]
  },
  {
   "cell_type": "markdown",
   "id": "2ebc21f9",
   "metadata": {
    "papermill": {
     "duration": 0.011328,
     "end_time": "2022-10-05T17:52:28.884813",
     "exception": false,
     "start_time": "2022-10-05T17:52:28.873485",
     "status": "completed"
    },
    "tags": []
   },
   "source": [
    "Maybe the imputation method doesn't match good to the dataset."
   ]
  },
  {
   "cell_type": "code",
   "execution_count": 16,
   "id": "af789b10",
   "metadata": {
    "execution": {
     "iopub.execute_input": "2022-10-05T17:52:28.909846Z",
     "iopub.status.busy": "2022-10-05T17:52:28.909456Z",
     "iopub.status.idle": "2022-10-05T17:52:28.917728Z",
     "shell.execute_reply": "2022-10-05T17:52:28.916652Z"
    },
    "papermill": {
     "duration": 0.023887,
     "end_time": "2022-10-05T17:52:28.920235",
     "exception": false,
     "start_time": "2022-10-05T17:52:28.896348",
     "status": "completed"
    },
    "tags": []
   },
   "outputs": [
    {
     "data": {
      "application/javascript": "parent.postMessage({\"jupyterEvent\": \"custom.exercise_interaction\", \"data\": {\"outcomeType\": 1, \"valueTowardsCompletion\": 1.0, \"interactionType\": 1, \"questionType\": 4, \"questionId\": \"3.2_ImputeThought\", \"learnToolsVersion\": \"0.3.4\", \"failureMessage\": \"\", \"exceptionClass\": \"\", \"trace\": \"\"}}, \"*\")",
      "text/plain": [
       "<IPython.core.display.Javascript object>"
      ]
     },
     "metadata": {},
     "output_type": "display_data"
    },
    {
     "data": {
      "text/markdown": [
       "<span style=\"color:#33cc33\">Correct:</span> \n",
       "\n",
       "Given that thre are so few missing values in the dataset, we'd expect imputation to perform better than dropping columns entirely.  However, we see that dropping columns performs slightly better!  While this can probably partially be attributed to noise in the dataset, another potential explanation is that the imputation method is not a great match to this dataset.  That is, maybe instead of filling in the mean value, it makes more sense to set every missing value to a value of 0, to fill in the most frequently encountered value, or to use some other method.  For instance, consider the `GarageYrBlt` column (which indicates the year that the garage was built).  It's likely that in some cases, a missing value could indicate a house that does not have a garage.  Does it make more sense to fill in the median value along each column in this case?  Or could we get better results by filling in the minimum value along each column?  It's not quite clear what's best in this case, but perhaps we can rule out some options immediately - for instance, setting missing values in this column to 0 is likely to yield horrible results!"
      ],
      "text/plain": [
       "Correct: \n",
       "\n",
       "Given that thre are so few missing values in the dataset, we'd expect imputation to perform better than dropping columns entirely.  However, we see that dropping columns performs slightly better!  While this can probably partially be attributed to noise in the dataset, another potential explanation is that the imputation method is not a great match to this dataset.  That is, maybe instead of filling in the mean value, it makes more sense to set every missing value to a value of 0, to fill in the most frequently encountered value, or to use some other method.  For instance, consider the `GarageYrBlt` column (which indicates the year that the garage was built).  It's likely that in some cases, a missing value could indicate a house that does not have a garage.  Does it make more sense to fill in the median value along each column in this case?  Or could we get better results by filling in the minimum value along each column?  It's not quite clear what's best in this case, but perhaps we can rule out some options immediately - for instance, setting missing values in this column to 0 is likely to yield horrible results!"
      ]
     },
     "metadata": {},
     "output_type": "display_data"
    }
   ],
   "source": [
    "# Check your answer (Run this code cell to receive credit!)\n",
    "step_3.b.check()"
   ]
  },
  {
   "cell_type": "code",
   "execution_count": 17,
   "id": "dec17f45",
   "metadata": {
    "execution": {
     "iopub.execute_input": "2022-10-05T17:52:28.947386Z",
     "iopub.status.busy": "2022-10-05T17:52:28.946341Z",
     "iopub.status.idle": "2022-10-05T17:52:28.951207Z",
     "shell.execute_reply": "2022-10-05T17:52:28.950063Z"
    },
    "papermill": {
     "duration": 0.0208,
     "end_time": "2022-10-05T17:52:28.953541",
     "exception": false,
     "start_time": "2022-10-05T17:52:28.932741",
     "status": "completed"
    },
    "tags": []
   },
   "outputs": [],
   "source": [
    "#step_3.b.hint()"
   ]
  },
  {
   "cell_type": "markdown",
   "id": "e7644711",
   "metadata": {
    "papermill": {
     "duration": 0.012122,
     "end_time": "2022-10-05T17:52:28.977656",
     "exception": false,
     "start_time": "2022-10-05T17:52:28.965534",
     "status": "completed"
    },
    "tags": []
   },
   "source": [
    "# Step 4: Generate test predictions\n",
    "\n",
    "In this final step, you'll use any approach of your choosing to deal with missing values.  Once you've preprocessed the training and validation features, you'll train and evaluate a random forest model.  Then, you'll preprocess the test data before generating predictions that can be submitted to the competition!\n",
    "\n",
    "### Part A\n",
    "\n",
    "Use the next code cell to preprocess the training and validation data.  Set the preprocessed DataFrames to `final_X_train` and `final_X_valid`.  **You can use any approach of your choosing here!**  in order for this step to be marked as correct, you need only ensure:\n",
    "- the preprocessed DataFrames have the same number of columns,\n",
    "- the preprocessed DataFrames have no missing values, \n",
    "- `final_X_train` and `y_train` have the same number of rows, and\n",
    "- `final_X_valid` and `y_valid` have the same number of rows."
   ]
  },
  {
   "cell_type": "code",
   "execution_count": 18,
   "id": "0019fcb8",
   "metadata": {
    "execution": {
     "iopub.execute_input": "2022-10-05T17:52:29.003741Z",
     "iopub.status.busy": "2022-10-05T17:52:29.002884Z",
     "iopub.status.idle": "2022-10-05T17:52:29.022750Z",
     "shell.execute_reply": "2022-10-05T17:52:29.021547Z"
    },
    "papermill": {
     "duration": 0.035492,
     "end_time": "2022-10-05T17:52:29.025197",
     "exception": false,
     "start_time": "2022-10-05T17:52:28.989705",
     "status": "completed"
    },
    "tags": []
   },
   "outputs": [
    {
     "data": {
      "application/javascript": "parent.postMessage({\"jupyterEvent\": \"custom.exercise_interaction\", \"data\": {\"outcomeType\": 1, \"valueTowardsCompletion\": 1.0, \"interactionType\": 1, \"questionType\": 2, \"questionId\": \"4.1_PredsCodeA\", \"learnToolsVersion\": \"0.3.4\", \"failureMessage\": \"\", \"exceptionClass\": \"\", \"trace\": \"\"}}, \"*\")",
      "text/plain": [
       "<IPython.core.display.Javascript object>"
      ]
     },
     "metadata": {},
     "output_type": "display_data"
    },
    {
     "data": {
      "text/markdown": [
       "<span style=\"color:#33cc33\">Correct</span>"
      ],
      "text/plain": [
       "Correct"
      ]
     },
     "metadata": {},
     "output_type": "display_data"
    }
   ],
   "source": [
    "# Preprocessed training and validation features\n",
    "final_X_train = reduced_X_train\n",
    "final_X_valid = reduced_X_valid\n",
    "\n",
    "# Check your answers\n",
    "step_4.a.check()"
   ]
  },
  {
   "cell_type": "code",
   "execution_count": 19,
   "id": "eb5a9ec8",
   "metadata": {
    "execution": {
     "iopub.execute_input": "2022-10-05T17:52:29.051677Z",
     "iopub.status.busy": "2022-10-05T17:52:29.050994Z",
     "iopub.status.idle": "2022-10-05T17:52:29.055955Z",
     "shell.execute_reply": "2022-10-05T17:52:29.054840Z"
    },
    "papermill": {
     "duration": 0.020984,
     "end_time": "2022-10-05T17:52:29.058518",
     "exception": false,
     "start_time": "2022-10-05T17:52:29.037534",
     "status": "completed"
    },
    "tags": []
   },
   "outputs": [],
   "source": [
    "# Lines below will give you a hint or solution code\n",
    "#step_4.a.hint()\n",
    "#step_4.a.solution()"
   ]
  },
  {
   "cell_type": "markdown",
   "id": "79147ee4",
   "metadata": {
    "papermill": {
     "duration": 0.013076,
     "end_time": "2022-10-05T17:52:29.084283",
     "exception": false,
     "start_time": "2022-10-05T17:52:29.071207",
     "status": "completed"
    },
    "tags": []
   },
   "source": [
    "Run the next code cell to train and evaluate a random forest model.  (*Note that we don't use the `score_dataset()` function above, because we will soon use the trained model to generate test predictions!*)"
   ]
  },
  {
   "cell_type": "code",
   "execution_count": 20,
   "id": "80ec84ff",
   "metadata": {
    "execution": {
     "iopub.execute_input": "2022-10-05T17:52:29.111270Z",
     "iopub.status.busy": "2022-10-05T17:52:29.110830Z",
     "iopub.status.idle": "2022-10-05T17:52:30.222786Z",
     "shell.execute_reply": "2022-10-05T17:52:30.221341Z"
    },
    "papermill": {
     "duration": 1.12866,
     "end_time": "2022-10-05T17:52:30.225494",
     "exception": false,
     "start_time": "2022-10-05T17:52:29.096834",
     "status": "completed"
    },
    "tags": []
   },
   "outputs": [
    {
     "name": "stdout",
     "output_type": "stream",
     "text": [
      "MAE (Your approach):\n",
      "17837.82570776256\n"
     ]
    }
   ],
   "source": [
    "# Define and fit model\n",
    "model = RandomForestRegressor(n_estimators=100, random_state=0)\n",
    "model.fit(final_X_train, y_train)\n",
    "\n",
    "# Get validation predictions and MAE\n",
    "preds_valid = model.predict(final_X_valid)\n",
    "print(\"MAE (Your approach):\")\n",
    "print(mean_absolute_error(y_valid, preds_valid))"
   ]
  },
  {
   "cell_type": "code",
   "execution_count": 21,
   "id": "f4c0ac2f",
   "metadata": {
    "execution": {
     "iopub.execute_input": "2022-10-05T17:52:30.251897Z",
     "iopub.status.busy": "2022-10-05T17:52:30.251491Z",
     "iopub.status.idle": "2022-10-05T17:52:30.258563Z",
     "shell.execute_reply": "2022-10-05T17:52:30.257437Z"
    },
    "papermill": {
     "duration": 0.02306,
     "end_time": "2022-10-05T17:52:30.261004",
     "exception": false,
     "start_time": "2022-10-05T17:52:30.237944",
     "status": "completed"
    },
    "tags": []
   },
   "outputs": [
    {
     "data": {
      "text/plain": [
       "(1168, 33)"
      ]
     },
     "execution_count": 21,
     "metadata": {},
     "output_type": "execute_result"
    }
   ],
   "source": [
    "final_X_train.shape"
   ]
  },
  {
   "cell_type": "markdown",
   "id": "8905289b",
   "metadata": {
    "papermill": {
     "duration": 0.012082,
     "end_time": "2022-10-05T17:52:30.285434",
     "exception": false,
     "start_time": "2022-10-05T17:52:30.273352",
     "status": "completed"
    },
    "tags": []
   },
   "source": [
    "### Part B\n",
    "\n",
    "Use the next code cell to preprocess your test data.  Make sure that you use a method that agrees with how you preprocessed the training and validation data, and set the preprocessed test features to `final_X_test`.\n",
    "\n",
    "Then, use the preprocessed test features and the trained model to generate test predictions in `preds_test`.\n",
    "\n",
    "In order for this step to be marked correct, you need only ensure:\n",
    "- the preprocessed test DataFrame has no missing values, and\n",
    "- `final_X_test` has the same number of rows as `X_test`."
   ]
  },
  {
   "cell_type": "code",
   "execution_count": 22,
   "id": "09961355",
   "metadata": {
    "execution": {
     "iopub.execute_input": "2022-10-05T17:52:30.312336Z",
     "iopub.status.busy": "2022-10-05T17:52:30.311942Z",
     "iopub.status.idle": "2022-10-05T17:52:30.345001Z",
     "shell.execute_reply": "2022-10-05T17:52:30.343677Z"
    },
    "papermill": {
     "duration": 0.05013,
     "end_time": "2022-10-05T17:52:30.347857",
     "exception": false,
     "start_time": "2022-10-05T17:52:30.297727",
     "status": "completed"
    },
    "tags": []
   },
   "outputs": [
    {
     "data": {
      "text/html": [
       "<div>\n",
       "<style scoped>\n",
       "    .dataframe tbody tr th:only-of-type {\n",
       "        vertical-align: middle;\n",
       "    }\n",
       "\n",
       "    .dataframe tbody tr th {\n",
       "        vertical-align: top;\n",
       "    }\n",
       "\n",
       "    .dataframe thead th {\n",
       "        text-align: right;\n",
       "    }\n",
       "</style>\n",
       "<table border=\"1\" class=\"dataframe\">\n",
       "  <thead>\n",
       "    <tr style=\"text-align: right;\">\n",
       "      <th></th>\n",
       "      <th>MSSubClass</th>\n",
       "      <th>LotFrontage</th>\n",
       "      <th>LotArea</th>\n",
       "      <th>OverallQual</th>\n",
       "      <th>OverallCond</th>\n",
       "      <th>YearBuilt</th>\n",
       "      <th>YearRemodAdd</th>\n",
       "      <th>MasVnrArea</th>\n",
       "      <th>BsmtFinSF1</th>\n",
       "      <th>BsmtFinSF2</th>\n",
       "      <th>...</th>\n",
       "      <th>GarageArea</th>\n",
       "      <th>WoodDeckSF</th>\n",
       "      <th>OpenPorchSF</th>\n",
       "      <th>EnclosedPorch</th>\n",
       "      <th>3SsnPorch</th>\n",
       "      <th>ScreenPorch</th>\n",
       "      <th>PoolArea</th>\n",
       "      <th>MiscVal</th>\n",
       "      <th>MoSold</th>\n",
       "      <th>YrSold</th>\n",
       "    </tr>\n",
       "    <tr>\n",
       "      <th>Id</th>\n",
       "      <th></th>\n",
       "      <th></th>\n",
       "      <th></th>\n",
       "      <th></th>\n",
       "      <th></th>\n",
       "      <th></th>\n",
       "      <th></th>\n",
       "      <th></th>\n",
       "      <th></th>\n",
       "      <th></th>\n",
       "      <th></th>\n",
       "      <th></th>\n",
       "      <th></th>\n",
       "      <th></th>\n",
       "      <th></th>\n",
       "      <th></th>\n",
       "      <th></th>\n",
       "      <th></th>\n",
       "      <th></th>\n",
       "      <th></th>\n",
       "      <th></th>\n",
       "    </tr>\n",
       "  </thead>\n",
       "  <tbody>\n",
       "    <tr>\n",
       "      <th>1461</th>\n",
       "      <td>20</td>\n",
       "      <td>80.0</td>\n",
       "      <td>11622</td>\n",
       "      <td>5</td>\n",
       "      <td>6</td>\n",
       "      <td>1961</td>\n",
       "      <td>1961</td>\n",
       "      <td>0.0</td>\n",
       "      <td>468.0</td>\n",
       "      <td>144.0</td>\n",
       "      <td>...</td>\n",
       "      <td>730.0</td>\n",
       "      <td>140</td>\n",
       "      <td>0</td>\n",
       "      <td>0</td>\n",
       "      <td>0</td>\n",
       "      <td>120</td>\n",
       "      <td>0</td>\n",
       "      <td>0</td>\n",
       "      <td>6</td>\n",
       "      <td>2010</td>\n",
       "    </tr>\n",
       "    <tr>\n",
       "      <th>1462</th>\n",
       "      <td>20</td>\n",
       "      <td>81.0</td>\n",
       "      <td>14267</td>\n",
       "      <td>6</td>\n",
       "      <td>6</td>\n",
       "      <td>1958</td>\n",
       "      <td>1958</td>\n",
       "      <td>108.0</td>\n",
       "      <td>923.0</td>\n",
       "      <td>0.0</td>\n",
       "      <td>...</td>\n",
       "      <td>312.0</td>\n",
       "      <td>393</td>\n",
       "      <td>36</td>\n",
       "      <td>0</td>\n",
       "      <td>0</td>\n",
       "      <td>0</td>\n",
       "      <td>0</td>\n",
       "      <td>12500</td>\n",
       "      <td>6</td>\n",
       "      <td>2010</td>\n",
       "    </tr>\n",
       "    <tr>\n",
       "      <th>1463</th>\n",
       "      <td>60</td>\n",
       "      <td>74.0</td>\n",
       "      <td>13830</td>\n",
       "      <td>5</td>\n",
       "      <td>5</td>\n",
       "      <td>1997</td>\n",
       "      <td>1998</td>\n",
       "      <td>0.0</td>\n",
       "      <td>791.0</td>\n",
       "      <td>0.0</td>\n",
       "      <td>...</td>\n",
       "      <td>482.0</td>\n",
       "      <td>212</td>\n",
       "      <td>34</td>\n",
       "      <td>0</td>\n",
       "      <td>0</td>\n",
       "      <td>0</td>\n",
       "      <td>0</td>\n",
       "      <td>0</td>\n",
       "      <td>3</td>\n",
       "      <td>2010</td>\n",
       "    </tr>\n",
       "    <tr>\n",
       "      <th>1464</th>\n",
       "      <td>60</td>\n",
       "      <td>78.0</td>\n",
       "      <td>9978</td>\n",
       "      <td>6</td>\n",
       "      <td>6</td>\n",
       "      <td>1998</td>\n",
       "      <td>1998</td>\n",
       "      <td>20.0</td>\n",
       "      <td>602.0</td>\n",
       "      <td>0.0</td>\n",
       "      <td>...</td>\n",
       "      <td>470.0</td>\n",
       "      <td>360</td>\n",
       "      <td>36</td>\n",
       "      <td>0</td>\n",
       "      <td>0</td>\n",
       "      <td>0</td>\n",
       "      <td>0</td>\n",
       "      <td>0</td>\n",
       "      <td>6</td>\n",
       "      <td>2010</td>\n",
       "    </tr>\n",
       "    <tr>\n",
       "      <th>1465</th>\n",
       "      <td>120</td>\n",
       "      <td>43.0</td>\n",
       "      <td>5005</td>\n",
       "      <td>8</td>\n",
       "      <td>5</td>\n",
       "      <td>1992</td>\n",
       "      <td>1992</td>\n",
       "      <td>0.0</td>\n",
       "      <td>263.0</td>\n",
       "      <td>0.0</td>\n",
       "      <td>...</td>\n",
       "      <td>506.0</td>\n",
       "      <td>0</td>\n",
       "      <td>82</td>\n",
       "      <td>0</td>\n",
       "      <td>0</td>\n",
       "      <td>144</td>\n",
       "      <td>0</td>\n",
       "      <td>0</td>\n",
       "      <td>1</td>\n",
       "      <td>2010</td>\n",
       "    </tr>\n",
       "    <tr>\n",
       "      <th>...</th>\n",
       "      <td>...</td>\n",
       "      <td>...</td>\n",
       "      <td>...</td>\n",
       "      <td>...</td>\n",
       "      <td>...</td>\n",
       "      <td>...</td>\n",
       "      <td>...</td>\n",
       "      <td>...</td>\n",
       "      <td>...</td>\n",
       "      <td>...</td>\n",
       "      <td>...</td>\n",
       "      <td>...</td>\n",
       "      <td>...</td>\n",
       "      <td>...</td>\n",
       "      <td>...</td>\n",
       "      <td>...</td>\n",
       "      <td>...</td>\n",
       "      <td>...</td>\n",
       "      <td>...</td>\n",
       "      <td>...</td>\n",
       "      <td>...</td>\n",
       "    </tr>\n",
       "    <tr>\n",
       "      <th>2915</th>\n",
       "      <td>160</td>\n",
       "      <td>21.0</td>\n",
       "      <td>1936</td>\n",
       "      <td>4</td>\n",
       "      <td>7</td>\n",
       "      <td>1970</td>\n",
       "      <td>1970</td>\n",
       "      <td>0.0</td>\n",
       "      <td>0.0</td>\n",
       "      <td>0.0</td>\n",
       "      <td>...</td>\n",
       "      <td>0.0</td>\n",
       "      <td>0</td>\n",
       "      <td>0</td>\n",
       "      <td>0</td>\n",
       "      <td>0</td>\n",
       "      <td>0</td>\n",
       "      <td>0</td>\n",
       "      <td>0</td>\n",
       "      <td>6</td>\n",
       "      <td>2006</td>\n",
       "    </tr>\n",
       "    <tr>\n",
       "      <th>2916</th>\n",
       "      <td>160</td>\n",
       "      <td>21.0</td>\n",
       "      <td>1894</td>\n",
       "      <td>4</td>\n",
       "      <td>5</td>\n",
       "      <td>1970</td>\n",
       "      <td>1970</td>\n",
       "      <td>0.0</td>\n",
       "      <td>252.0</td>\n",
       "      <td>0.0</td>\n",
       "      <td>...</td>\n",
       "      <td>286.0</td>\n",
       "      <td>0</td>\n",
       "      <td>24</td>\n",
       "      <td>0</td>\n",
       "      <td>0</td>\n",
       "      <td>0</td>\n",
       "      <td>0</td>\n",
       "      <td>0</td>\n",
       "      <td>4</td>\n",
       "      <td>2006</td>\n",
       "    </tr>\n",
       "    <tr>\n",
       "      <th>2917</th>\n",
       "      <td>20</td>\n",
       "      <td>160.0</td>\n",
       "      <td>20000</td>\n",
       "      <td>5</td>\n",
       "      <td>7</td>\n",
       "      <td>1960</td>\n",
       "      <td>1996</td>\n",
       "      <td>0.0</td>\n",
       "      <td>1224.0</td>\n",
       "      <td>0.0</td>\n",
       "      <td>...</td>\n",
       "      <td>576.0</td>\n",
       "      <td>474</td>\n",
       "      <td>0</td>\n",
       "      <td>0</td>\n",
       "      <td>0</td>\n",
       "      <td>0</td>\n",
       "      <td>0</td>\n",
       "      <td>0</td>\n",
       "      <td>9</td>\n",
       "      <td>2006</td>\n",
       "    </tr>\n",
       "    <tr>\n",
       "      <th>2918</th>\n",
       "      <td>85</td>\n",
       "      <td>62.0</td>\n",
       "      <td>10441</td>\n",
       "      <td>5</td>\n",
       "      <td>5</td>\n",
       "      <td>1992</td>\n",
       "      <td>1992</td>\n",
       "      <td>0.0</td>\n",
       "      <td>337.0</td>\n",
       "      <td>0.0</td>\n",
       "      <td>...</td>\n",
       "      <td>0.0</td>\n",
       "      <td>80</td>\n",
       "      <td>32</td>\n",
       "      <td>0</td>\n",
       "      <td>0</td>\n",
       "      <td>0</td>\n",
       "      <td>0</td>\n",
       "      <td>700</td>\n",
       "      <td>7</td>\n",
       "      <td>2006</td>\n",
       "    </tr>\n",
       "    <tr>\n",
       "      <th>2919</th>\n",
       "      <td>60</td>\n",
       "      <td>74.0</td>\n",
       "      <td>9627</td>\n",
       "      <td>7</td>\n",
       "      <td>5</td>\n",
       "      <td>1993</td>\n",
       "      <td>1994</td>\n",
       "      <td>94.0</td>\n",
       "      <td>758.0</td>\n",
       "      <td>0.0</td>\n",
       "      <td>...</td>\n",
       "      <td>650.0</td>\n",
       "      <td>190</td>\n",
       "      <td>48</td>\n",
       "      <td>0</td>\n",
       "      <td>0</td>\n",
       "      <td>0</td>\n",
       "      <td>0</td>\n",
       "      <td>0</td>\n",
       "      <td>11</td>\n",
       "      <td>2006</td>\n",
       "    </tr>\n",
       "  </tbody>\n",
       "</table>\n",
       "<p>1459 rows × 36 columns</p>\n",
       "</div>"
      ],
      "text/plain": [
       "      MSSubClass  LotFrontage  LotArea  OverallQual  OverallCond  YearBuilt  \\\n",
       "Id                                                                            \n",
       "1461          20         80.0    11622            5            6       1961   \n",
       "1462          20         81.0    14267            6            6       1958   \n",
       "1463          60         74.0    13830            5            5       1997   \n",
       "1464          60         78.0     9978            6            6       1998   \n",
       "1465         120         43.0     5005            8            5       1992   \n",
       "...          ...          ...      ...          ...          ...        ...   \n",
       "2915         160         21.0     1936            4            7       1970   \n",
       "2916         160         21.0     1894            4            5       1970   \n",
       "2917          20        160.0    20000            5            7       1960   \n",
       "2918          85         62.0    10441            5            5       1992   \n",
       "2919          60         74.0     9627            7            5       1993   \n",
       "\n",
       "      YearRemodAdd  MasVnrArea  BsmtFinSF1  BsmtFinSF2  ...  GarageArea  \\\n",
       "Id                                                      ...               \n",
       "1461          1961         0.0       468.0       144.0  ...       730.0   \n",
       "1462          1958       108.0       923.0         0.0  ...       312.0   \n",
       "1463          1998         0.0       791.0         0.0  ...       482.0   \n",
       "1464          1998        20.0       602.0         0.0  ...       470.0   \n",
       "1465          1992         0.0       263.0         0.0  ...       506.0   \n",
       "...            ...         ...         ...         ...  ...         ...   \n",
       "2915          1970         0.0         0.0         0.0  ...         0.0   \n",
       "2916          1970         0.0       252.0         0.0  ...       286.0   \n",
       "2917          1996         0.0      1224.0         0.0  ...       576.0   \n",
       "2918          1992         0.0       337.0         0.0  ...         0.0   \n",
       "2919          1994        94.0       758.0         0.0  ...       650.0   \n",
       "\n",
       "      WoodDeckSF  OpenPorchSF  EnclosedPorch  3SsnPorch  ScreenPorch  \\\n",
       "Id                                                                     \n",
       "1461         140            0              0          0          120   \n",
       "1462         393           36              0          0            0   \n",
       "1463         212           34              0          0            0   \n",
       "1464         360           36              0          0            0   \n",
       "1465           0           82              0          0          144   \n",
       "...          ...          ...            ...        ...          ...   \n",
       "2915           0            0              0          0            0   \n",
       "2916           0           24              0          0            0   \n",
       "2917         474            0              0          0            0   \n",
       "2918          80           32              0          0            0   \n",
       "2919         190           48              0          0            0   \n",
       "\n",
       "      PoolArea  MiscVal  MoSold  YrSold  \n",
       "Id                                       \n",
       "1461         0        0       6    2010  \n",
       "1462         0    12500       6    2010  \n",
       "1463         0        0       3    2010  \n",
       "1464         0        0       6    2010  \n",
       "1465         0        0       1    2010  \n",
       "...        ...      ...     ...     ...  \n",
       "2915         0        0       6    2006  \n",
       "2916         0        0       4    2006  \n",
       "2917         0        0       9    2006  \n",
       "2918         0      700       7    2006  \n",
       "2919         0        0      11    2006  \n",
       "\n",
       "[1459 rows x 36 columns]"
      ]
     },
     "execution_count": 22,
     "metadata": {},
     "output_type": "execute_result"
    }
   ],
   "source": [
    "X_test"
   ]
  },
  {
   "cell_type": "code",
   "execution_count": 23,
   "id": "c1a98c2a",
   "metadata": {
    "execution": {
     "iopub.execute_input": "2022-10-05T17:52:30.375831Z",
     "iopub.status.busy": "2022-10-05T17:52:30.375443Z",
     "iopub.status.idle": "2022-10-05T17:52:30.380546Z",
     "shell.execute_reply": "2022-10-05T17:52:30.379309Z"
    },
    "papermill": {
     "duration": 0.021877,
     "end_time": "2022-10-05T17:52:30.382789",
     "exception": false,
     "start_time": "2022-10-05T17:52:30.360912",
     "status": "completed"
    },
    "tags": []
   },
   "outputs": [],
   "source": [
    "# X_test # 1459 rows × 36 columns\n",
    "\n",
    "test_missing_val_colums = missing_val_colums + ['BsmtFinSF1', 'BsmtFinSF2', 'BsmtUnfSF', 'TotalBsmtSF', \n",
    "                                           'BsmtFullBath','BsmtHalfBath','GarageCars','GarageArea']\n",
    "# Check if there is some cells with missing values  \n",
    "# X_test.drop(test_missing_val_colums, axis='columns').isnull().any()"
   ]
  },
  {
   "cell_type": "code",
   "execution_count": 24,
   "id": "57f859d8",
   "metadata": {
    "execution": {
     "iopub.execute_input": "2022-10-05T17:52:30.411265Z",
     "iopub.status.busy": "2022-10-05T17:52:30.410892Z",
     "iopub.status.idle": "2022-10-05T17:52:30.478902Z",
     "shell.execute_reply": "2022-10-05T17:52:30.477140Z"
    },
    "papermill": {
     "duration": 0.086214,
     "end_time": "2022-10-05T17:52:30.482036",
     "exception": false,
     "start_time": "2022-10-05T17:52:30.395822",
     "status": "completed"
    },
    "tags": []
   },
   "outputs": [
    {
     "name": "stderr",
     "output_type": "stream",
     "text": [
      "/opt/conda/lib/python3.7/site-packages/sklearn/base.py:451: UserWarning: X does not have valid feature names, but RandomForestRegressor was fitted with feature names\n",
      "  \"X does not have valid feature names, but\"\n"
     ]
    },
    {
     "data": {
      "application/javascript": "parent.postMessage({\"jupyterEvent\": \"custom.exercise_interaction\", \"data\": {\"outcomeType\": 1, \"valueTowardsCompletion\": 1.0, \"interactionType\": 1, \"questionType\": 2, \"questionId\": \"4.2_PredsCodeB\", \"learnToolsVersion\": \"0.3.4\", \"failureMessage\": \"\", \"exceptionClass\": \"\", \"trace\": \"\"}}, \"*\")",
      "text/plain": [
       "<IPython.core.display.Javascript object>"
      ]
     },
     "metadata": {},
     "output_type": "display_data"
    },
    {
     "data": {
      "text/markdown": [
       "<span style=\"color:#33cc33\">Correct</span>"
      ],
      "text/plain": [
       "Correct"
      ]
     },
     "metadata": {},
     "output_type": "display_data"
    }
   ],
   "source": [
    "# Fill in the line below: preprocess test data\n",
    "final_X_test = X_test.drop(missing_val_colums, axis=1)\n",
    "final_X_test = pd.DataFrame(dobromirs_imputer.fit_transform(final_X_test))\n",
    "\n",
    "# Fill in the line below: get test predictions\n",
    "\n",
    "preds_test = model.predict(final_X_test)\n",
    "\n",
    "# Check your answers\n",
    "step_4.b.check()"
   ]
  },
  {
   "cell_type": "code",
   "execution_count": 25,
   "id": "e0b5e060",
   "metadata": {
    "execution": {
     "iopub.execute_input": "2022-10-05T17:52:30.511260Z",
     "iopub.status.busy": "2022-10-05T17:52:30.510862Z",
     "iopub.status.idle": "2022-10-05T17:52:30.518188Z",
     "shell.execute_reply": "2022-10-05T17:52:30.517102Z"
    },
    "papermill": {
     "duration": 0.024812,
     "end_time": "2022-10-05T17:52:30.520325",
     "exception": false,
     "start_time": "2022-10-05T17:52:30.495513",
     "status": "completed"
    },
    "tags": []
   },
   "outputs": [
    {
     "data": {
      "text/plain": [
       "1459"
      ]
     },
     "execution_count": 25,
     "metadata": {},
     "output_type": "execute_result"
    }
   ],
   "source": [
    "preds_test.size\n",
    "# [289049.26, 189500.42, 170615.77,...]"
   ]
  },
  {
   "cell_type": "code",
   "execution_count": 26,
   "id": "5f75f0c2",
   "metadata": {
    "execution": {
     "iopub.execute_input": "2022-10-05T17:52:30.549707Z",
     "iopub.status.busy": "2022-10-05T17:52:30.549267Z",
     "iopub.status.idle": "2022-10-05T17:52:30.554192Z",
     "shell.execute_reply": "2022-10-05T17:52:30.553027Z"
    },
    "papermill": {
     "duration": 0.022318,
     "end_time": "2022-10-05T17:52:30.556814",
     "exception": false,
     "start_time": "2022-10-05T17:52:30.534496",
     "status": "completed"
    },
    "tags": []
   },
   "outputs": [],
   "source": [
    "# Lines below will give you a hint or solution code\n",
    "\n",
    "# step_4.b.hint()\n",
    "# step_4.b.solution()"
   ]
  },
  {
   "cell_type": "markdown",
   "id": "c8534562",
   "metadata": {
    "papermill": {
     "duration": 0.013678,
     "end_time": "2022-10-05T17:52:30.584516",
     "exception": false,
     "start_time": "2022-10-05T17:52:30.570838",
     "status": "completed"
    },
    "tags": []
   },
   "source": [
    "Run the next code cell without changes to save your results to a CSV file that can be submitted directly to the competition."
   ]
  },
  {
   "cell_type": "code",
   "execution_count": 27,
   "id": "d2a5f77b",
   "metadata": {
    "execution": {
     "iopub.execute_input": "2022-10-05T17:52:30.613325Z",
     "iopub.status.busy": "2022-10-05T17:52:30.612905Z",
     "iopub.status.idle": "2022-10-05T17:52:30.626194Z",
     "shell.execute_reply": "2022-10-05T17:52:30.624944Z"
    },
    "papermill": {
     "duration": 0.030872,
     "end_time": "2022-10-05T17:52:30.629005",
     "exception": false,
     "start_time": "2022-10-05T17:52:30.598133",
     "status": "completed"
    },
    "tags": []
   },
   "outputs": [],
   "source": [
    "# Save test predictions to file\n",
    "output = pd.DataFrame({'Id': X_test.index,\n",
    "                       'SalePrice': preds_test})\n",
    "output.to_csv('submission.csv', index=False)"
   ]
  },
  {
   "cell_type": "markdown",
   "id": "a403a21a",
   "metadata": {
    "papermill": {
     "duration": 0.013151,
     "end_time": "2022-10-05T17:52:30.656180",
     "exception": false,
     "start_time": "2022-10-05T17:52:30.643029",
     "status": "completed"
    },
    "tags": []
   },
   "source": [
    "# Submit your results\n",
    "\n",
    "Once you have successfully completed Step 4, you're ready to submit your results to the leaderboard!  (_You also learned how to do this in the previous exercise.  If you need a reminder of how to do this, please use the instructions below._)  \n",
    "\n",
    "First, you'll need to join the competition if you haven't already.  So open a new window by clicking on [this link](https://www.kaggle.com/c/home-data-for-ml-course).  Then click on the **Join Competition** button.\n",
    "\n",
    "![join competition image](https://i.imgur.com/wLmFtH3.png)\n",
    "\n",
    "Next, follow the instructions below:\n",
    "1. Begin by clicking on the **Save Version** button in the top right corner of the window.  This will generate a pop-up window.  \n",
    "2. Ensure that the **Save and Run All** option is selected, and then click on the **Save** button.\n",
    "3. This generates a window in the bottom left corner of the notebook.  After it has finished running, click on the number to the right of the **Save Version** button.  This pulls up a list of versions on the right of the screen.  Click on the ellipsis **(...)** to the right of the most recent version, and select **Open in Viewer**.  This brings you into view mode of the same page. You will need to scroll down to get back to these instructions.\n",
    "4. Click on the **Output** tab on the right of the screen.  Then, click on the file you would like to submit, and click on the **Submit** button to submit your results to the leaderboard.\n",
    "\n",
    "You have now successfully submitted to the competition!\n",
    "\n",
    "If you want to keep working to improve your performance, select the **Edit** button in the top right of the screen. Then you can change your code and repeat the process. There's a lot of room to improve, and you will climb up the leaderboard as you work.\n",
    "\n",
    "\n",
    "# Keep going\n",
    "\n",
    "Move on to learn what **[categorical variables](https://www.kaggle.com/alexisbcook/categorical-variables)** are, along with how to incorporate them into your machine learning models.  Categorical variables are very common in real-world data, but you'll get an error if you try to plug them into your models without processing them first!"
   ]
  },
  {
   "cell_type": "markdown",
   "id": "3481ede3",
   "metadata": {
    "papermill": {
     "duration": 0.014133,
     "end_time": "2022-10-05T17:52:30.684481",
     "exception": false,
     "start_time": "2022-10-05T17:52:30.670348",
     "status": "completed"
    },
    "tags": []
   },
   "source": [
    "---\n",
    "\n",
    "\n",
    "\n",
    "\n",
    "*Have questions or comments? Visit the [course discussion forum](https://www.kaggle.com/learn/intermediate-machine-learning/discussion) to chat with other learners.*"
   ]
  }
 ],
 "metadata": {
  "kernelspec": {
   "display_name": "Python 3.10.2 64-bit",
   "language": "python",
   "name": "python3"
  },
  "language_info": {
   "codemirror_mode": {
    "name": "ipython",
    "version": 3
   },
   "file_extension": ".py",
   "mimetype": "text/x-python",
   "name": "python",
   "nbconvert_exporter": "python",
   "pygments_lexer": "ipython3",
   "version": "3.10.2"
  },
  "papermill": {
   "default_parameters": {},
   "duration": 16.904963,
   "end_time": "2022-10-05T17:52:31.420537",
   "environment_variables": {},
   "exception": null,
   "input_path": "__notebook__.ipynb",
   "output_path": "__notebook__.ipynb",
   "parameters": {},
   "start_time": "2022-10-05T17:52:14.515574",
   "version": "2.3.4"
  },
  "vscode": {
   "interpreter": {
    "hash": "26de051ba29f2982a8de78e945f0abaf191376122a1563185a90213a26c5da77"
   }
  }
 },
 "nbformat": 4,
 "nbformat_minor": 5
}
